{
  "nbformat": 4,
  "nbformat_minor": 0,
  "metadata": {
    "colab": {
      "provenance": [],
      "authorship_tag": "ABX9TyMonbTxDXOEXzE6gno75nJS",
      "include_colab_link": true
    },
    "kernelspec": {
      "name": "python3",
      "display_name": "Python 3"
    },
    "language_info": {
      "name": "python"
    }
  },
  "cells": [
    {
      "cell_type": "markdown",
      "metadata": {
        "id": "view-in-github",
        "colab_type": "text"
      },
      "source": [
        "<a href=\"https://colab.research.google.com/github/eng-edu-lgh/DLG1/blob/main/Q14.ipynb\" target=\"_parent\"><img src=\"https://colab.research.google.com/assets/colab-badge.svg\" alt=\"Open In Colab\"/></a>"
      ]
    },
    {
      "cell_type": "markdown",
      "source": [
        "Q14. [1] Create a list of your favorite colors called color_list with at least three colors. [2] Use a for loop to iterate through the list and print each color."
      ],
      "metadata": {
        "id": "o9_bcMdoeOmU"
      }
    },
    {
      "cell_type": "code",
      "execution_count": null,
      "metadata": {
        "id": "ME0_Aj5_eLDC"
      },
      "outputs": [],
      "source": [
        "color_list = []\n",
        "\n",
        "for in :"
      ]
    }
  ]
}